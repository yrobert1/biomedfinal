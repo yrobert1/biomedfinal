{
    "cells": [
        {
            "metadata": {},
            "cell_type": "code",
            "source": "# importing the required module\nimport matplotlib.pyplot as plt\nimport pandas as pd\n\ndata = {'age':  ['52', '53', '70','61','62','58','58','55','46','54','71','43','34','51','52'],\n        'gender': ['1', '1', '1','1','0','0','1','1','1','1','0','0','0','1','1'],\n        'cp':  ['0','0','0','0','0','0','0','0','0','0','0','0','1','0','0', ],\n        'restbps':  ['125', '140', '145','148','138','100','114','160','120','122','112','132','118','140','128'],\n        'fbs':  ['0', '1','0','0','1','0','0','0','0','0','0','1','0','0','1'],\n        'chol':  ['212', '203', '174','203','294','248','318','289','249','286','149','341','210','298','204'],\n        'restecg':  ['1', '0', '1','1','1','0','2','0','0','0','1','0','1','1','1'],\n        'thalach':  ['168', '155', '125','161','106','122','140','145','144','116','125','136','192','122','156'],\n        'exang':  ['0', '1', '1','0','0','0','0','1','0','1','0','1','0','1','1'],\n        'oldpeak':  ['1', '3.1', '2.6','0','1.9','1','4.4','0.8','0.8','3.2','1.6','3','0.7','4.2','1'],\n        'slope':  ['2', '0','0','2','1','1','0','1','2','1','1','1','2','1','1'],\n        'ca':  ['2', '0','0','1','3','0','3','1','0','2','0','0','0','3','0'],\n        'thal':  ['3', '3','3','3','2','2','1','3','3','2','2','3','2','3','0' ],\n        'target':  ['0','0','0','0','0','1','0','0','0','0','1','0','1','0','0'],  \n        \n        }\n\ndf = pd.DataFrame(data)\n\nprint (df)\n\n#FIGURE 1\n\n# x axis values\n#age = ['34','43','46','51','52','52','53','54','55','58','58','61','62','70','71',]\n# corresponding y axis values\n#restbp = ['100','112','114','118','120','122','125','128','132','138','140','140','145','148','160',]\n \n\n# plotting points as a scatter plot\n\n#plt.scatter(age, restbp, label= \"stars\", color= \"green\", marker= \"*\", s=30)\n\n# naming the x axis\n#plt.xlabel('AGE')\n# naming the y axis\n#plt.ylabel('Resting BP')\n \n# giving a title to my graph\n#plt.title('Comparing Resting Blood Pressure in age')\n \n# function to show the plot\n#plt.show()\n\n#FIGURE 2\n\n \n# defining labels\n#activities = ['yes', 'no']\n \n# portion covered by each label\n#slices = [4, 11]\n \n# color for each label\n#colors = ['r', 'b']\n \n#plt.title('Does Fasting Blood Sugar Appear in Group')\n\n# plotting the pie chart\n#plt.pie(slices, labels = activities, colors=colors,\n        #startangle=90, shadow = True, explode = (0.1, 0),\n        #radius = 1.2, autopct = '%1.1f%%')\n\n#plt.legend()\n \n# showing the plot\n#plt.show()\n\n# Python program to demonstrate mean()\n# function from the statistics module\n \n# Importing the statistics module\nfrom statistics import mean\n \n\n \n# tuple of positive integer numbers\ndata1 = (168,155, 125, 161, 140, 145, 144, 116,122,156)\n \n# tuple of a negative set of integers\ndata2 = (106, 122, 125, 136, 192, -19)\n \n \n# Printing the mean of above datasets\nprint(\"Mean Max Heartrate of male dataset is % s\" % (mean(data1)))\nprint(\"Mean Max Heartrate of female dataset 2 is % s\" % (mean(data2)))\n",
            "execution_count": 40,
            "outputs": [
                {
                    "output_type": "stream",
                    "text": "   age gender cp restbps fbs chol restecg thalach exang oldpeak slope ca thal  \\\n0   52      1  0     125   0  212       1     168     0       1     2  2    3   \n1   53      1  0     140   1  203       0     155     1     3.1     0  0    3   \n2   70      1  0     145   0  174       1     125     1     2.6     0  0    3   \n3   61      1  0     148   0  203       1     161     0       0     2  1    3   \n4   62      0  0     138   1  294       1     106     0     1.9     1  3    2   \n5   58      0  0     100   0  248       0     122     0       1     1  0    2   \n6   58      1  0     114   0  318       2     140     0     4.4     0  3    1   \n7   55      1  0     160   0  289       0     145     1     0.8     1  1    3   \n8   46      1  0     120   0  249       0     144     0     0.8     2  0    3   \n9   54      1  0     122   0  286       0     116     1     3.2     1  2    2   \n10  71      0  0     112   0  149       1     125     0     1.6     1  0    2   \n11  43      0  0     132   1  341       0     136     1       3     1  0    3   \n12  34      0  1     118   0  210       1     192     0     0.7     2  0    2   \n13  51      1  0     140   0  298       1     122     1     4.2     1  3    3   \n14  52      1  0     128   1  204       1     156     1       1     1  0    0   \n\n   target  \n0       0  \n1       0  \n2       0  \n3       0  \n4       0  \n5       1  \n6       0  \n7       0  \n8       0  \n9       0  \n10      1  \n11      0  \n12      1  \n13      0  \n14      0  \nMean Max Heartrate of male dataset is 143.2\nMean Max Heartrate of female dataset 2 is 110.33333333333333\n",
                    "name": "stdout"
                }
            ]
        },
        {
            "metadata": {},
            "cell_type": "code",
            "source": "",
            "execution_count": null,
            "outputs": []
        }
    ],
    "metadata": {
        "kernelspec": {
            "name": "python37",
            "display_name": "Python 3.7 with Spark",
            "language": "python3"
        },
        "language_info": {
            "name": "python",
            "version": "3.7.10",
            "mimetype": "text/x-python",
            "codemirror_mode": {
                "name": "ipython",
                "version": 3
            },
            "pygments_lexer": "ipython3",
            "nbconvert_exporter": "python",
            "file_extension": ".py"
        }
    },
    "nbformat": 4,
    "nbformat_minor": 1
}